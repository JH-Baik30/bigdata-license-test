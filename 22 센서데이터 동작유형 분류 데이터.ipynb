{
 "cells": [
  {
   "cell_type": "markdown",
   "metadata": {},
   "source": [
    "#### 빅분기 실기 연습중\n",
    "https://www.datamanim.com/dataset/03_dataq/pandas_practice.html\n",
    "\n",
    "데이터마님 영자님 감사합니다~~"
   ]
  },
  {
   "cell_type": "markdown",
   "metadata": {},
   "source": [
    "22 센서데이터 동작유형 분류 데이터"
   ]
  },
  {
   "cell_type": "code",
   "execution_count": 4,
   "metadata": {},
   "outputs": [
    {
     "data": {
      "text/html": [
       "<div>\n",
       "<style scoped>\n",
       "    .dataframe tbody tr th:only-of-type {\n",
       "        vertical-align: middle;\n",
       "    }\n",
       "\n",
       "    .dataframe tbody tr th {\n",
       "        vertical-align: top;\n",
       "    }\n",
       "\n",
       "    .dataframe thead th {\n",
       "        text-align: right;\n",
       "    }\n",
       "</style>\n",
       "<table border=\"1\" class=\"dataframe\">\n",
       "  <thead>\n",
       "    <tr style=\"text-align: right;\">\n",
       "      <th></th>\n",
       "      <th>motion_0</th>\n",
       "      <th>motion_1</th>\n",
       "      <th>motion_2</th>\n",
       "      <th>motion_3</th>\n",
       "      <th>motion_4</th>\n",
       "      <th>motion_5</th>\n",
       "      <th>motion_6</th>\n",
       "      <th>motion_7</th>\n",
       "      <th>motion_8</th>\n",
       "      <th>motion_9</th>\n",
       "      <th>...</th>\n",
       "      <th>motion_55</th>\n",
       "      <th>motion_56</th>\n",
       "      <th>motion_57</th>\n",
       "      <th>motion_58</th>\n",
       "      <th>motion_59</th>\n",
       "      <th>motion_60</th>\n",
       "      <th>motion_61</th>\n",
       "      <th>motion_62</th>\n",
       "      <th>motion_63</th>\n",
       "      <th>pose</th>\n",
       "    </tr>\n",
       "  </thead>\n",
       "  <tbody>\n",
       "    <tr>\n",
       "      <th>0</th>\n",
       "      <td>-6.0</td>\n",
       "      <td>8.0</td>\n",
       "      <td>5.0</td>\n",
       "      <td>6.0</td>\n",
       "      <td>-12.0</td>\n",
       "      <td>-27.0</td>\n",
       "      <td>5.0</td>\n",
       "      <td>24.0</td>\n",
       "      <td>-8.0</td>\n",
       "      <td>-5.0</td>\n",
       "      <td>...</td>\n",
       "      <td>-1.0</td>\n",
       "      <td>-3.0</td>\n",
       "      <td>-6.0</td>\n",
       "      <td>-9.0</td>\n",
       "      <td>-7.0</td>\n",
       "      <td>36.0</td>\n",
       "      <td>68.0</td>\n",
       "      <td>3.0</td>\n",
       "      <td>-3.0</td>\n",
       "      <td>1</td>\n",
       "    </tr>\n",
       "    <tr>\n",
       "      <th>1</th>\n",
       "      <td>-32.0</td>\n",
       "      <td>-3.0</td>\n",
       "      <td>-4.0</td>\n",
       "      <td>-5.0</td>\n",
       "      <td>-1.0</td>\n",
       "      <td>16.0</td>\n",
       "      <td>0.0</td>\n",
       "      <td>-5.0</td>\n",
       "      <td>42.0</td>\n",
       "      <td>2.0</td>\n",
       "      <td>...</td>\n",
       "      <td>-17.0</td>\n",
       "      <td>-12.0</td>\n",
       "      <td>-1.0</td>\n",
       "      <td>-1.0</td>\n",
       "      <td>0.0</td>\n",
       "      <td>-26.0</td>\n",
       "      <td>-11.0</td>\n",
       "      <td>-4.0</td>\n",
       "      <td>-9.0</td>\n",
       "      <td>1</td>\n",
       "    </tr>\n",
       "  </tbody>\n",
       "</table>\n",
       "<p>2 rows × 65 columns</p>\n",
       "</div>"
      ],
      "text/plain": [
       "   motion_0  motion_1  motion_2  motion_3  motion_4  motion_5  motion_6  \\\n",
       "0      -6.0       8.0       5.0       6.0     -12.0     -27.0       5.0   \n",
       "1     -32.0      -3.0      -4.0      -5.0      -1.0      16.0       0.0   \n",
       "\n",
       "   motion_7  motion_8  motion_9  ...  motion_55  motion_56  motion_57  \\\n",
       "0      24.0      -8.0      -5.0  ...       -1.0       -3.0       -6.0   \n",
       "1      -5.0      42.0       2.0  ...      -17.0      -12.0       -1.0   \n",
       "\n",
       "   motion_58  motion_59  motion_60  motion_61  motion_62  motion_63  pose  \n",
       "0       -9.0       -7.0       36.0       68.0        3.0       -3.0     1  \n",
       "1       -1.0        0.0      -26.0      -11.0       -4.0       -9.0     1  \n",
       "\n",
       "[2 rows x 65 columns]"
      ]
     },
     "metadata": {},
     "output_type": "display_data"
    },
    {
     "data": {
      "text/plain": [
       "(4650, 65)"
      ]
     },
     "metadata": {},
     "output_type": "display_data"
    }
   ],
   "source": [
    "import pandas as pd\n",
    "\n",
    "dataurl = 'https://raw.githubusercontent.com/Datamanim/datarepo/main/muscle/train.csv'\n",
    "df = pd.read_csv(dataurl)\n",
    "display(df.head(2))\n",
    "display(df.shape)"
   ]
  },
  {
   "cell_type": "markdown",
   "metadata": {},
   "source": [
    "pose값에 따른 각 motion컬럼의 중간값의 가장 큰 차이를 보이는 motion컬럼은 어디이며 그값은?"
   ]
  },
  {
   "cell_type": "code",
   "execution_count": 5,
   "metadata": {},
   "outputs": [
    {
     "data": {
      "text/plain": [
       "motion_30    3.0\n",
       "motion_38    3.0\n",
       "motion_46    3.5\n",
       "motion_54    4.0\n",
       "motion_62    4.0\n",
       "dtype: float64"
      ]
     },
     "execution_count": 5,
     "metadata": {},
     "output_type": "execute_result"
    }
   ],
   "source": [
    "df1 = df.groupby('pose').median().T\n",
    "abs(df1[0] - df1[1]).sort_values().tail(5)"
   ]
  }
 ],
 "metadata": {
  "kernelspec": {
   "display_name": "Python 3.9.12 64-bit",
   "language": "python",
   "name": "python3"
  },
  "language_info": {
   "codemirror_mode": {
    "name": "ipython",
    "version": 3
   },
   "file_extension": ".py",
   "mimetype": "text/x-python",
   "name": "python",
   "nbconvert_exporter": "python",
   "pygments_lexer": "ipython3",
   "version": "3.9.12"
  },
  "orig_nbformat": 4,
  "vscode": {
   "interpreter": {
    "hash": "316a2efbad2291deca45afabf663fd4214a7707bedbe41b6b5eb774ede5fb382"
   }
  }
 },
 "nbformat": 4,
 "nbformat_minor": 2
}
