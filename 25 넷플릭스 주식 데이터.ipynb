{
 "cells": [
  {
   "cell_type": "markdown",
   "metadata": {},
   "source": [
    "#### 빅분기 실기 연습중\n",
    "https://www.datamanim.com/dataset/03_dataq/pandas_practice.html\n",
    "\n",
    "데이터마님 영자님 감사합니다~~"
   ]
  },
  {
   "cell_type": "markdown",
   "metadata": {},
   "source": [
    "25 넷플릭스 주식 데이터"
   ]
  },
  {
   "cell_type": "code",
   "execution_count": 1,
   "metadata": {},
   "outputs": [
    {
     "data": {
      "text/html": [
       "<div>\n",
       "<style scoped>\n",
       "    .dataframe tbody tr th:only-of-type {\n",
       "        vertical-align: middle;\n",
       "    }\n",
       "\n",
       "    .dataframe tbody tr th {\n",
       "        vertical-align: top;\n",
       "    }\n",
       "\n",
       "    .dataframe thead th {\n",
       "        text-align: right;\n",
       "    }\n",
       "</style>\n",
       "<table border=\"1\" class=\"dataframe\">\n",
       "  <thead>\n",
       "    <tr style=\"text-align: right;\">\n",
       "      <th></th>\n",
       "      <th>Date</th>\n",
       "      <th>Open</th>\n",
       "      <th>High</th>\n",
       "      <th>Low</th>\n",
       "      <th>Close</th>\n",
       "      <th>Adj Close</th>\n",
       "      <th>Volume</th>\n",
       "    </tr>\n",
       "  </thead>\n",
       "  <tbody>\n",
       "    <tr>\n",
       "      <th>0</th>\n",
       "      <td>2002-05-23</td>\n",
       "      <td>1.156429</td>\n",
       "      <td>1.242857</td>\n",
       "      <td>1.145714</td>\n",
       "      <td>1.196429</td>\n",
       "      <td>1.196429</td>\n",
       "      <td>104790000</td>\n",
       "    </tr>\n",
       "    <tr>\n",
       "      <th>1</th>\n",
       "      <td>2002-05-24</td>\n",
       "      <td>1.214286</td>\n",
       "      <td>1.225000</td>\n",
       "      <td>1.197143</td>\n",
       "      <td>1.210000</td>\n",
       "      <td>1.210000</td>\n",
       "      <td>11104800</td>\n",
       "    </tr>\n",
       "  </tbody>\n",
       "</table>\n",
       "</div>"
      ],
      "text/plain": [
       "        Date      Open      High       Low     Close  Adj Close     Volume\n",
       "0 2002-05-23  1.156429  1.242857  1.145714  1.196429   1.196429  104790000\n",
       "1 2002-05-24  1.214286  1.225000  1.197143  1.210000   1.210000   11104800"
      ]
     },
     "metadata": {},
     "output_type": "display_data"
    },
    {
     "data": {
      "text/plain": [
       "(4874, 7)"
      ]
     },
     "metadata": {},
     "output_type": "display_data"
    }
   ],
   "source": [
    "import pandas as pd\n",
    "\n",
    "dataurl = 'https://raw.githubusercontent.com/Datamanim/datarepo/main/nflx/NFLX.csv'\n",
    "df = pd.read_csv(dataurl, parse_dates=['Date'])\n",
    "display(df.head(2))\n",
    "display(df.shape)"
   ]
  },
  {
   "cell_type": "markdown",
   "metadata": {},
   "source": [
    "매년 5월달의 open가격의 평균값을 데이터 프레임으로 표현하라"
   ]
  },
  {
   "cell_type": "code",
   "execution_count": 2,
   "metadata": {},
   "outputs": [
    {
     "data": {
      "text/html": [
       "<div>\n",
       "<style scoped>\n",
       "    .dataframe tbody tr th:only-of-type {\n",
       "        vertical-align: middle;\n",
       "    }\n",
       "\n",
       "    .dataframe tbody tr th {\n",
       "        vertical-align: top;\n",
       "    }\n",
       "\n",
       "    .dataframe thead th {\n",
       "        text-align: right;\n",
       "    }\n",
       "</style>\n",
       "<table border=\"1\" class=\"dataframe\">\n",
       "  <thead>\n",
       "    <tr style=\"text-align: right;\">\n",
       "      <th></th>\n",
       "      <th>Open</th>\n",
       "    </tr>\n",
       "    <tr>\n",
       "      <th>Date</th>\n",
       "      <th></th>\n",
       "    </tr>\n",
       "  </thead>\n",
       "  <tbody>\n",
       "    <tr>\n",
       "      <th>2002-05</th>\n",
       "      <td>1.155833</td>\n",
       "    </tr>\n",
       "    <tr>\n",
       "      <th>2003-05</th>\n",
       "      <td>1.641497</td>\n",
       "    </tr>\n",
       "    <tr>\n",
       "      <th>2004-05</th>\n",
       "      <td>4.261143</td>\n",
       "    </tr>\n",
       "    <tr>\n",
       "      <th>2005-05</th>\n",
       "      <td>1.951905</td>\n",
       "    </tr>\n",
       "    <tr>\n",
       "      <th>2006-05</th>\n",
       "      <td>4.163571</td>\n",
       "    </tr>\n",
       "    <tr>\n",
       "      <th>2007-05</th>\n",
       "      <td>3.159351</td>\n",
       "    </tr>\n",
       "    <tr>\n",
       "      <th>2008-05</th>\n",
       "      <td>4.435034</td>\n",
       "    </tr>\n",
       "    <tr>\n",
       "      <th>2009-05</th>\n",
       "      <td>5.790571</td>\n",
       "    </tr>\n",
       "    <tr>\n",
       "      <th>2010-05</th>\n",
       "      <td>14.417071</td>\n",
       "    </tr>\n",
       "    <tr>\n",
       "      <th>2011-05</th>\n",
       "      <td>34.650272</td>\n",
       "    </tr>\n",
       "    <tr>\n",
       "      <th>2012-05</th>\n",
       "      <td>10.523247</td>\n",
       "    </tr>\n",
       "    <tr>\n",
       "      <th>2013-05</th>\n",
       "      <td>31.936429</td>\n",
       "    </tr>\n",
       "    <tr>\n",
       "      <th>2014-05</th>\n",
       "      <td>51.121292</td>\n",
       "    </tr>\n",
       "    <tr>\n",
       "      <th>2015-05</th>\n",
       "      <td>85.057429</td>\n",
       "    </tr>\n",
       "    <tr>\n",
       "      <th>2016-05</th>\n",
       "      <td>92.705715</td>\n",
       "    </tr>\n",
       "    <tr>\n",
       "      <th>2017-05</th>\n",
       "      <td>158.255455</td>\n",
       "    </tr>\n",
       "    <tr>\n",
       "      <th>2018-05</th>\n",
       "      <td>329.779541</td>\n",
       "    </tr>\n",
       "    <tr>\n",
       "      <th>2019-05</th>\n",
       "      <td>359.664548</td>\n",
       "    </tr>\n",
       "    <tr>\n",
       "      <th>2020-05</th>\n",
       "      <td>433.880499</td>\n",
       "    </tr>\n",
       "    <tr>\n",
       "      <th>2021-05</th>\n",
       "      <td>496.923996</td>\n",
       "    </tr>\n",
       "  </tbody>\n",
       "</table>\n",
       "</div>"
      ],
      "text/plain": [
       "               Open\n",
       "Date               \n",
       "2002-05    1.155833\n",
       "2003-05    1.641497\n",
       "2004-05    4.261143\n",
       "2005-05    1.951905\n",
       "2006-05    4.163571\n",
       "2007-05    3.159351\n",
       "2008-05    4.435034\n",
       "2009-05    5.790571\n",
       "2010-05   14.417071\n",
       "2011-05   34.650272\n",
       "2012-05   10.523247\n",
       "2013-05   31.936429\n",
       "2014-05   51.121292\n",
       "2015-05   85.057429\n",
       "2016-05   92.705715\n",
       "2017-05  158.255455\n",
       "2018-05  329.779541\n",
       "2019-05  359.664548\n",
       "2020-05  433.880499\n",
       "2021-05  496.923996"
      ]
     },
     "execution_count": 2,
     "metadata": {},
     "output_type": "execute_result"
    }
   ],
   "source": [
    "df1 = df.groupby(df['Date'].dt.strftime('%Y-%m')).mean()\n",
    "df1[df1.index.str.contains('-05')]['Open'].to_frame()"
   ]
  }
 ],
 "metadata": {
  "kernelspec": {
   "display_name": "Python 3.9.12 64-bit",
   "language": "python",
   "name": "python3"
  },
  "language_info": {
   "codemirror_mode": {
    "name": "ipython",
    "version": 3
   },
   "file_extension": ".py",
   "mimetype": "text/x-python",
   "name": "python",
   "nbconvert_exporter": "python",
   "pygments_lexer": "ipython3",
   "version": "3.9.12"
  },
  "orig_nbformat": 4,
  "vscode": {
   "interpreter": {
    "hash": "316a2efbad2291deca45afabf663fd4214a7707bedbe41b6b5eb774ede5fb382"
   }
  }
 },
 "nbformat": 4,
 "nbformat_minor": 2
}
